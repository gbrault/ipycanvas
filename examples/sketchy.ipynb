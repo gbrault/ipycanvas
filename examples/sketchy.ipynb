{
 "cells": [
  {
   "cell_type": "markdown",
   "metadata": {},
   "source": [
    "# SketchyCanvas\n",
    "\n",
    "The SketchyCanvas give a nice hand-drawn style to your canvas!"
   ]
  },
  {
   "cell_type": "code",
   "execution_count": null,
   "metadata": {},
   "outputs": [],
   "source": [
    "from ipycanvas import Canvas\n",
    "from math import pi\n",
    "\n",
    "c = Canvas(width=600, height=600)\n",
    "\n",
    "c.fill_style = 'green'\n",
    "c.fill_arc(300, 300, 200, 0, 0.9 * pi)\n",
    "\n",
    "c.fill_style = 'red'\n",
    "c.fill_arc(300, 300, 200, 0.9 * pi, pi + 0.2 * pi)\n",
    "\n",
    "c.fill_style = 'blue'\n",
    "c.fill_arc(300, 300, 200, pi + 0.2 * pi, 2 * pi)\n",
    "\n",
    "c.stroke_style = 'black'\n",
    "c.stroke_arc(300, 300, 200, 0, 2 * pi)\n",
    "\n",
    "c"
   ]
  },
  {
   "cell_type": "code",
   "execution_count": null,
   "metadata": {},
   "outputs": [],
   "source": [
    "from ipycanvas import SketchyCanvas\n",
    "from math import pi\n",
    "\n",
    "c = SketchyCanvas(width=600, height=600)\n",
    "\n",
    "c.fill_style = 'green'\n",
    "c.fill_arc(300, 300, 200, 0, 0.9 * pi)\n",
    "\n",
    "c.fill_style = 'red'\n",
    "c.fill_arc(300, 300, 200, 0.9 * pi, pi + 0.2 * pi)\n",
    "\n",
    "c.fill_style = 'blue'\n",
    "c.fill_arc(300, 300, 200, pi + 0.2 * pi, 2 * pi)\n",
    "\n",
    "c.stroke_style = 'black'\n",
    "c.stroke_arc(300, 300, 200, 0, 2 * pi)\n",
    "\n",
    "c"
   ]
  },
  {
   "cell_type": "code",
   "execution_count": null,
   "metadata": {},
   "outputs": [],
   "source": [
    "from ipycanvas import SketchyCanvas"
   ]
  },
  {
   "cell_type": "markdown",
   "metadata": {},
   "source": [
    "### Draw shapes\n",
    "\n",
    "The sketchy canvas gives a nice hand-drawn style to your canvas, **note** that it only works with direct draw calls, it does not work with paths created with `begin_path`, those paths will be drawned normally."
   ]
  },
  {
   "cell_type": "code",
   "execution_count": null,
   "metadata": {
    "scrolled": false
   },
   "outputs": [],
   "source": [
    "canvas = SketchyCanvas()\n",
    "\n",
    "canvas.stroke_rect(100, 100, 100, 100)\n",
    "canvas.fill_rect(50, 50, 100, 100)\n",
    "\n",
    "canvas.stroke_circle(300, 300, 100)\n",
    "canvas.fill_circle(350, 350, 100)\n",
    "\n",
    "canvas.stroke_line(200, 200, 300, 300)\n",
    "\n",
    "canvas"
   ]
  },
  {
   "cell_type": "markdown",
   "metadata": {},
   "source": [
    "### Fill styles\n",
    "\n",
    "With the SketchyCanvas, not only you can modify the fill color but you can also modify the fill styling, using one of the following values: 'hachure' (default), 'solid', 'zigzag', 'cross-hatch', 'dots', 'sunburst', 'dashed' or 'zigzag-line'"
   ]
  },
  {
   "cell_type": "code",
   "execution_count": null,
   "metadata": {},
   "outputs": [],
   "source": [
    "canvas = SketchyCanvas(width=850, height=100)\n",
    "\n",
    "canvas.fill_style = 'blue'\n",
    "canvas.line_width = 2.\n",
    "\n",
    "sketchy_fill_style_values = ['hachure', 'solid', 'zigzag', 'cross-hatch', 'dots', 'sunburst', 'dashed', 'zigzag-line']\n",
    "\n",
    "for i in range(len(sketchy_fill_style_values)):\n",
    "    canvas.sketchy_fill_style = sketchy_fill_style_values[i]\n",
    "\n",
    "    canvas.fill_rect(10 + i * 100, 10, 90, 80)\n",
    "\n",
    "\n",
    "canvas"
   ]
  },
  {
   "cell_type": "markdown",
   "metadata": {},
   "source": [
    "### Stroke styles\n",
    "\n",
    "You can still change the stroke width using the `line_width` attribute, just like with the normal Canvas class"
   ]
  },
  {
   "cell_type": "code",
   "execution_count": null,
   "metadata": {},
   "outputs": [],
   "source": [
    "canvas = SketchyCanvas(width=600, height=300)\n",
    "\n",
    "canvas.line_width = 3.\n",
    "canvas.stroke_rect(100, 100, 100, 100)\n",
    "\n",
    "canvas.line_width = 10.\n",
    "canvas.stroke_rect(300, 100, 100, 100)\n",
    "\n",
    "canvas"
   ]
  },
  {
   "cell_type": "markdown",
   "metadata": {},
   "source": [
    "### Sketch options\n",
    "\n",
    "There are some options you can play with to change the style of your drawing"
   ]
  },
  {
   "cell_type": "markdown",
   "metadata": {},
   "source": [
    "#### Roughness: value indicating how rough the drawing is"
   ]
  },
  {
   "cell_type": "code",
   "execution_count": null,
   "metadata": {},
   "outputs": [],
   "source": [
    "canvas = SketchyCanvas(width=850, height=100)\n",
    "\n",
    "canvas.fill_style = 'green'\n",
    "\n",
    "for i in range(8):\n",
    "    canvas.roughness = i\n",
    "\n",
    "    canvas.fill_rect(10 + i * 100, 10, 90, 80)\n",
    "\n",
    "\n",
    "canvas"
   ]
  },
  {
   "cell_type": "markdown",
   "metadata": {},
   "source": [
    "#### Bowing: value indicating how curvy the lines are when drawing a sketch"
   ]
  },
  {
   "cell_type": "code",
   "execution_count": null,
   "metadata": {},
   "outputs": [],
   "source": [
    "canvas = SketchyCanvas(width=850, height=150)\n",
    "\n",
    "canvas.fill_style = 'green'\n",
    "\n",
    "for i in range(8):\n",
    "    canvas.bowing = i * 3.\n",
    "\n",
    "    canvas.stroke_rect(20 + i * 100, 20, 90, 110)\n",
    "\n",
    "\n",
    "canvas"
   ]
  }
 ],
 "metadata": {
  "kernelspec": {
   "display_name": "Python 3",
   "language": "python",
   "name": "python3"
  },
  "language_info": {
   "codemirror_mode": {
    "name": "ipython",
    "version": 3
   },
   "file_extension": ".py",
   "mimetype": "text/x-python",
   "name": "python",
   "nbconvert_exporter": "python",
   "pygments_lexer": "ipython3",
   "version": "3.8.3"
  }
 },
 "nbformat": 4,
 "nbformat_minor": 4
}
