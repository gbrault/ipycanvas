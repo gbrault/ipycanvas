{
 "cells": [
  {
   "cell_type": "markdown",
   "metadata": {},
   "source": [
    "# SketchyCanvas\n",
    "\n",
    "The SketchyCanvas give a nice hand-drawn style to your canvas!"
   ]
  },
  {
   "cell_type": "code",
   "execution_count": null,
   "metadata": {},
   "outputs": [],
   "source": [
    "from ipycanvas import SketchyCanvas"
   ]
  },
  {
   "cell_type": "markdown",
   "metadata": {},
   "source": [
    "### Draw shapes\n",
    "\n",
    "The sketchy canvas gives a nice hand-drawn style to your canvas, **note** that it only works with direct draw calls, it does not work with arbitrary shapes (yet)."
   ]
  },
  {
   "cell_type": "code",
   "execution_count": null,
   "metadata": {
    "scrolled": false
   },
   "outputs": [],
   "source": [
    "canvas = SketchyCanvas()\n",
    "\n",
    "canvas.stroke_rect(100, 100, 100, 100)\n",
    "canvas.fill_rect(50, 50, 100, 100)\n",
    "\n",
    "canvas.stroke_circle(300, 300, 100)\n",
    "canvas.fill_circle(350, 350, 100)\n",
    "\n",
    "canvas.stroke_line(200, 200, 300, 300)\n",
    "\n",
    "canvas"
   ]
  },
  {
   "cell_type": "markdown",
   "metadata": {},
   "source": [
    "### Fill styles\n",
    "\n",
    "With the SketchyCanvas, not only you can modify the fill color but you can also modify the fill styling, using one of the following values: 'hachure' (default), 'solid', 'zigzag', 'cross-hatch', 'dots', 'sunburst', 'dashed' or 'zigzag-line'"
   ]
  },
  {
   "cell_type": "code",
   "execution_count": null,
   "metadata": {},
   "outputs": [],
   "source": [
    "canvas = SketchyCanvas(width=850, height=50)\n",
    "\n",
    "canvas.fill_style = 'blue'\n",
    "\n",
    "sketchy_fill_style_values = ['hachure', 'solid', 'zigzag', 'cross-hatch', 'dots', 'sunburst', 'dashed', 'zigzag-line']\n",
    "\n",
    "for i in range(len(sketchy_fill_style_values)):\n",
    "    canvas.sketchy_fill_style = sketchy_fill_style_values[i]\n",
    "\n",
    "    canvas.fill_rect(10 + i * 100, 10, 90, 30)\n",
    "\n",
    "\n",
    "canvas"
   ]
  },
  {
   "cell_type": "markdown",
   "metadata": {},
   "source": [
    "### Stroke styles\n",
    "\n",
    "With the SketchyCanvas, not only you can modify the stroke width but you can also modify the stroke styling!"
   ]
  },
  {
   "cell_type": "code",
   "execution_count": null,
   "metadata": {},
   "outputs": [],
   "source": [
    "canvas = SketchyCanvas(width=600, height=300)\n",
    "\n",
    "canvas.line_width = 3.\n",
    "canvas.stroke_rect(100, 100, 100, 100)\n",
    "\n",
    "canvas.line_width = 10.\n",
    "canvas.stroke_rect(300, 100, 100, 100)\n",
    "\n",
    "canvas"
   ]
  }
 ],
 "metadata": {
  "kernelspec": {
   "display_name": "Python 3",
   "language": "python",
   "name": "python3"
  },
  "language_info": {
   "codemirror_mode": {
    "name": "ipython",
    "version": 3
   },
   "file_extension": ".py",
   "mimetype": "text/x-python",
   "name": "python",
   "nbconvert_exporter": "python",
   "pygments_lexer": "ipython3",
   "version": "3.8.3"
  }
 },
 "nbformat": 4,
 "nbformat_minor": 4
}
